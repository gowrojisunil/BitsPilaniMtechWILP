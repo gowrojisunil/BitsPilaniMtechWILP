{
 "cells": [
  {
   "cell_type": "markdown",
   "metadata": {},
   "source": [
    "# DSECLPFDS - Python Exercises for Practice (S1 to S3)"
   ]
  },
  {
   "cell_type": "markdown",
   "metadata": {},
   "source": [
    "1. Given a number, find the sum of its digits. Take the number as\n",
    "an input from the user."
   ]
  },
  {
   "cell_type": "code",
   "execution_count": 1,
   "metadata": {},
   "outputs": [
    {
     "name": "stdout",
     "output_type": "stream",
     "text": [
      "Please enter a number: 89676\n",
      "Sum of its digits of the entered number is  36\n"
     ]
    }
   ],
   "source": [
    "\n",
    "# take input from the user\n",
    "num = input(\"Please enter a number: \")\n",
    "\n",
    "sum = 0\n",
    "\n",
    "for digit in str(num): \n",
    "  sum += int(digit)\n",
    "print(\"Sum of its digits of the entered number is \", sum)"
   ]
  },
  {
   "cell_type": "markdown",
   "metadata": {},
   "source": [
    "2. Given a number, check whether the given number is an\n",
    "Armstrong number or not. A positive integer is called an\n",
    "Armstrong number of order n if:\n",
    "abcd... = an\n",
    " + bn + cn\n",
    " + dn\n",
    " + ...\n",
    "Example: 153 = 1*1*1 + 5*5*5 + 3*3*3\n",
    "153 is an Armstrong number of order 3.\n",
    "Inputs from the user will be number and order n"
   ]
  },
  {
   "cell_type": "code",
   "execution_count": 2,
   "metadata": {},
   "outputs": [
    {
     "name": "stdout",
     "output_type": "stream",
     "text": [
      "Enter a number: 153\n",
      "153 is an Armstrong number\n"
     ]
    }
   ],
   "source": [
    "# Python program to check if the number is an Armstrong number or not\n",
    "\n",
    "# take input from the user\n",
    "num = int(input(\"Enter a number: \"))\n",
    "\n",
    "# initialize sum\n",
    "sum = 0\n",
    "\n",
    "# find the sum of the cube of each digit\n",
    "temp = num\n",
    "while temp > 0:\n",
    "   digit = temp % 10\n",
    "   sum += digit ** 3\n",
    "   temp //= 10\n",
    "\n",
    "# display the result\n",
    "if num is sum:\n",
    "   print(num,\"is an Armstrong number\")\n",
    "else:\n",
    "   print(num,\"is not an Armstrong number\")"
   ]
  },
  {
   "cell_type": "markdown",
   "metadata": {},
   "source": [
    "3. Given a string, write a python function to check if it is\n",
    "palindrome or not. A string is said to be palindrome if the reverse\n",
    "of the string is the same as string. For example, “malayalam” is a\n",
    "palindrome, but “music” is not a palindrome."
   ]
  },
  {
   "cell_type": "code",
   "execution_count": 3,
   "metadata": {},
   "outputs": [
    {
     "name": "stdout",
     "output_type": "stream",
     "text": [
      "Enter a word: maam\n",
      "You Entered word is palindrome\n"
     ]
    }
   ],
   "source": [
    "  # take input from the user\n",
    "word = input(\"Enter a word: \")\n",
    "\n",
    "if (word == word[::-1]):\n",
    "    print(\"You Entered word is palindrome\")\n",
    "else:\n",
    "    print(\"Not palindrome\")"
   ]
  },
  {
   "cell_type": "markdown",
   "metadata": {},
   "source": [
    "4. Given an array which may contain duplicates, print all elements\n",
    "and their frequencies."
   ]
  },
  {
   "cell_type": "code",
   "execution_count": 4,
   "metadata": {},
   "outputs": [
    {
     "name": "stdout",
     "output_type": "stream",
     "text": [
      "Enter number of elements : 6\n",
      "1\n",
      "2\n",
      "1\n",
      "2\n",
      "1\n",
      "3\n",
      "Array is : [1, 2, 1, 2, 1, 3]  and its length is : 6\n",
      "1 3\n",
      "2 2\n",
      "3 1\n"
     ]
    }
   ],
   "source": [
    "# creating an empty list\n",
    "arr = []\n",
    " \n",
    "# number of elements as input\n",
    "n = int(input(\"Enter number of elements : \"))\n",
    " \n",
    "# iterating till the range\n",
    "for i in range(0, n):\n",
    "    ele = int(input())\n",
    " \n",
    "    arr.append(ele) # adding the element\n",
    "    array_len = len(arr)\n",
    "print(\"Array is :\",arr, \" and its length is :\", array_len)\n",
    "\n",
    " # Mark all array elements as not visited\n",
    "visited = [False for i in range(array_len)]\n",
    "\n",
    "# Traverse through array elements\n",
    "# and count frequencies\n",
    "for i in range(array_len):\n",
    "         \n",
    "# Skip this element if already  processed\n",
    "    if (visited[i] == True):\n",
    "        continue\n",
    " \n",
    "  # Count frequency\n",
    "    count = 1\n",
    "    for j in range(i + 1, array_len, 1):\n",
    "        if (arr[i] == arr[j]):\n",
    "            visited[j] = True\n",
    "            count += 1\n",
    "         \n",
    "    print(arr[i], count)"
   ]
  },
  {
   "cell_type": "markdown",
   "metadata": {},
   "source": [
    "5. Given a number n, write a function to print all prime factors of\n",
    "n. For example, if the input number is 12, then output should be\n",
    "“2 2 3”."
   ]
  },
  {
   "cell_type": "code",
   "execution_count": 5,
   "metadata": {},
   "outputs": [
    {
     "name": "stdout",
     "output_type": "stream",
     "text": [
      "Enter a number: 357\n",
      "3\n",
      "7\n",
      "17\n"
     ]
    }
   ],
   "source": [
    "import math\n",
    "\n",
    "# A function to print all prime factors of\n",
    "# a given number n\n",
    "def primeFactors(n):\n",
    "\n",
    "    # Print the number of two's that divide n\n",
    "    while n % 2 == 0:\n",
    "        print(2)\n",
    "        n = n / 2\n",
    "        \n",
    "    # n must be odd at this point\n",
    "    # so a skip of 2 ( i = i + 2) can be used\n",
    "    for i in range(3,int(math.sqrt(n))+1,2):\n",
    "\n",
    "        # while i divides n , print i and divide n\n",
    "        while n % i== 0:\n",
    "            print(i)\n",
    "            n = n / i\n",
    "\n",
    "    # Condition if n is a prime\n",
    "    # number greater than 2\n",
    "    if n > 2:\n",
    "        print(n)\n",
    "\n",
    "# Driver Program to test above function\n",
    "\n",
    "n = int(input(\"Enter a number: \"))\n",
    "primeFactors(n)"
   ]
  },
  {
   "cell_type": "markdown",
   "metadata": {},
   "source": [
    "6. Given two numbers n and r, find the value of nCr (binomial\n",
    "coefficient: nCr = (n!) / (r! * (n-r)!))"
   ]
  },
  {
   "cell_type": "code",
   "execution_count": 9,
   "metadata": {},
   "outputs": [
    {
     "name": "stdout",
     "output_type": "stream",
     "text": [
      "please enter n :5\n",
      "please enter r :2\n",
      "5C2 = 10.0\n"
     ]
    }
   ],
   "source": [
    "def factorial(n):\n",
    "    # Write a function to compute factorial\n",
    "    product = 1\n",
    "    for i in range(1, n+1): product *= i\n",
    "    return product\n",
    "\n",
    "def ncr(n, r):\n",
    "    # Use the function above to compute the nCr value\n",
    "    return factorial(n) / factorial(r) / factorial(n - r)\n",
    "\n",
    "n = int(input(\"please enter n :\"))\n",
    "r = int(input(\"please enter r :\"))\n",
    "\n",
    "\n",
    "print(n, \"C\", r, \" = \", ncr(n, r), sep = \"\")"
   ]
  },
  {
   "cell_type": "markdown",
   "metadata": {},
   "source": [
    "7. Searching: Given a sorted array arr[] of n elements, write a\n",
    "function to search a given element x in arr[]. Do it using linear\n",
    "and binary search techniques."
   ]
  },
  {
   "cell_type": "code",
   "execution_count": 14,
   "metadata": {},
   "outputs": [
    {
     "name": "stdout",
     "output_type": "stream",
     "text": [
      "Enter english of characters : 5\n",
      "a\n",
      "c\n",
      "b\n",
      "d\n",
      "f\n",
      "Array is : ['a', 'c', 'b', 'd', 'f']  and its length is : 5\n",
      "Enter a character which need to be searched: f\n",
      "element found at index 4\n"
     ]
    }
   ],
   "source": [
    "# Linear search\n",
    "\n",
    "def linearsearch(arr, x):\n",
    "   for i in range(len(arr)):\n",
    "      if arr[i] == x:\n",
    "         return i\n",
    "   return -1\n",
    "# arr = ['t','u','t','o','r','i','a','l']\n",
    "\n",
    "# creating an empty list\n",
    "arr = []\n",
    " \n",
    "# number of elements as input\n",
    "n = int(input(\"Enter english of characters : \"))\n",
    " \n",
    "# iterating till the range\n",
    "for i in range(0, n):\n",
    "    ele = input()\n",
    " \n",
    "    arr.append(ele) # adding the element\n",
    "    array_len = len(arr)\n",
    "    \n",
    "print(\"Array is :\",arr, \" and its length is :\", array_len)\n",
    "\n",
    "x = input(\"Enter a character which need to be searched: \")\n",
    "# x = 'a'\n",
    "print(\"element found at index \"+str(linearsearch(arr,x)))"
   ]
  },
  {
   "cell_type": "code",
   "execution_count": 15,
   "metadata": {},
   "outputs": [
    {
     "name": "stdout",
     "output_type": "stream",
     "text": [
      "Element is present at index  3\n"
     ]
    }
   ],
   "source": [
    "# Binary Search\n",
    "\n",
    "# Python3 Program for recursive binary search.\n",
    " \n",
    "# Returns index of x in arr if present, else -1\n",
    "def binarySearch (arr, l, r, x):\n",
    " \n",
    "    # Check base case\n",
    "    if r >= l:\n",
    " \n",
    "        mid = l + (r - l) // 2\n",
    " \n",
    "        # If element is present at the middle itself\n",
    "        if arr[mid] == x:\n",
    "            return mid\n",
    "         \n",
    "        # If element is smaller than mid, then it\n",
    "        # can only be present in left subarray\n",
    "        elif arr[mid] > x:\n",
    "            return binarySearch(arr, l, mid-1, x)\n",
    " \n",
    "        # Else the element can only be present\n",
    "        # in right subarray\n",
    "        else:\n",
    "            return binarySearch(arr, mid + 1, r, x)\n",
    " \n",
    "    else:\n",
    "        # Element is not present in the array\n",
    "        return -1\n",
    " \n",
    "# Driver Code\n",
    "arr = [ 2, 3, 4, 10, 40 ]\n",
    "x = 10\n",
    " \n",
    "# Function call\n",
    "result = binarySearch(arr, 0, len(arr)-1, x)\n",
    " \n",
    "if result != -1:\n",
    "    print (\"Element is present at index % d\" % result)\n",
    "else:\n",
    "    print (\"Element is not present in array\")"
   ]
  },
  {
   "cell_type": "markdown",
   "metadata": {},
   "source": [
    "8. Input a text file (containing 1 or more paragraphs of English\n",
    "text) from the user, parse this file to display the frequency of\n",
    "occurrence of each word in this text file. Find the 3 most frequent\n",
    "words as well."
   ]
  },
  {
   "cell_type": "code",
   "execution_count": 16,
   "metadata": {},
   "outputs": [
    {
     "name": "stdout",
     "output_type": "stream",
     "text": [
      "Most repeated word: time\\\n",
      "\n"
     ]
    }
   ],
   "source": [
    "count = 0;  \n",
    "word = \"\";  \n",
    "maxCount = 0;  \n",
    "words = [];  \n",
    "   \n",
    "#Opens a any format file in read mode  \n",
    "file = open(\"data.rtf\", \"r\")  \n",
    "      \n",
    "#Gets each line till end of file is reached  \n",
    "for line in file:  \n",
    "    #Splits each line into words  \n",
    "    string = line.lower().replace(',','').replace('.','').split(\" \");  \n",
    "    #Adding all words generated in previous step into words  \n",
    "    for s in string:  \n",
    "        words.append(s);  \n",
    "   \n",
    "#Determine the most repeated word in a file  \n",
    "for i in range(0, len(words)):  \n",
    "    count = 1;  \n",
    "    #Count each word in the file and store it in variable count  \n",
    "    for j in range(i+1, len(words)):  \n",
    "        if(words[i] == words[j]):  \n",
    "            count = count + 1;  \n",
    "              \n",
    "    #If maxCount is less than count then store value of count in maxCount  \n",
    "    #and corresponding word to variable word  \n",
    "    if(count > maxCount):  \n",
    "        maxCount = count;  \n",
    "        word = words[i];  \n",
    "          \n",
    "print(\"Most repeated word: \" + word);  \n",
    "file.close();  "
   ]
  },
  {
   "cell_type": "code",
   "execution_count": null,
   "metadata": {},
   "outputs": [],
   "source": []
  }
 ],
 "metadata": {
  "kernelspec": {
   "display_name": "Python 3",
   "language": "python",
   "name": "python3"
  },
  "language_info": {
   "codemirror_mode": {
    "name": "ipython",
    "version": 3
   },
   "file_extension": ".py",
   "mimetype": "text/x-python",
   "name": "python",
   "nbconvert_exporter": "python",
   "pygments_lexer": "ipython3",
   "version": "3.7.6"
  }
 },
 "nbformat": 4,
 "nbformat_minor": 4
}
