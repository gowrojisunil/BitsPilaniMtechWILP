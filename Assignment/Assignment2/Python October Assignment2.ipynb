{
 "cells": [
  {
   "cell_type": "markdown",
   "metadata": {},
   "source": [
    "# Python October Assignment2"
   ]
  },
  {
   "cell_type": "markdown",
   "metadata": {},
   "source": [
    "1. Write a NumPy program to find the number of elements\n",
    "of an array, length of one array element in bytes and total\n",
    "bytes consumed by the elements."
   ]
  },
  {
   "cell_type": "code",
   "execution_count": 7,
   "metadata": {},
   "outputs": [
    {
     "name": "stdout",
     "output_type": "stream",
     "text": [
      "5\n",
      "32\n",
      "136\n"
     ]
    }
   ],
   "source": [
    "import numpy as np\n",
    "import sys\n",
    "a = np.array([1, 2, 3, 4, 5])\n",
    "print(len(a))\n",
    "print(sys.getsizeof(a[0]))\n",
    "print(sys.getsizeof(a))"
   ]
  },
  {
   "cell_type": "code",
   "execution_count": null,
   "metadata": {},
   "outputs": [],
   "source": [
    "2.Write a NumPy program to find the set difference of two\n",
    "arrays. The set difference will return the sorted, unique\n",
    "values in array1 that are not in array2."
   ]
  },
  {
   "cell_type": "code",
   "execution_count": 12,
   "metadata": {},
   "outputs": [
    {
     "data": {
      "text/plain": [
       "[3, 4, 5]"
      ]
     },
     "execution_count": 12,
     "metadata": {},
     "output_type": "execute_result"
    }
   ],
   "source": [
    "a1 = np.array([1, 2, 3, 4, 5])\n",
    "a2 = np.array([ 3, 4, 5, 6, 7])\n",
    "list(set(a1) & set(a2))\n"
   ]
  },
  {
   "cell_type": "code",
   "execution_count": null,
   "metadata": {},
   "outputs": [],
   "source": [
    "3.Write a NumPy program to compute the cross product\n",
    "of two given vectors."
   ]
  },
  {
   "cell_type": "code",
   "execution_count": 13,
   "metadata": {},
   "outputs": [
    {
     "name": "stdout",
     "output_type": "stream",
     "text": [
      "-2\n"
     ]
    }
   ],
   "source": [
    "# import library\n",
    "import numpy as np\n",
    "  \n",
    "# declare vectors\n",
    "x = [1, 2]\n",
    "y = [3, 4]\n",
    "  \n",
    "# find cross product of\n",
    "# two given vectors\n",
    "result = np.cross(x, y)\n",
    "  \n",
    "# show the result\n",
    "print(result)"
   ]
  },
  {
   "cell_type": "code",
   "execution_count": null,
   "metadata": {},
   "outputs": [],
   "source": [
    "4.Write a NumPy program to compute the determinant of\n",
    "a given square array."
   ]
  },
  {
   "cell_type": "code",
   "execution_count": 17,
   "metadata": {},
   "outputs": [
    {
     "name": "stdout",
     "output_type": "stream",
     "text": [
      "Original 2-d array\n",
      "[[1 0]\n",
      " [1 6]]\n",
      "Determinant of the said 2-D array:\n",
      "6.0\n"
     ]
    }
   ],
   "source": [
    "\n",
    "from numpy import linalg as LA\n",
    "# a = np.array([[1, 0, 2], [1, 2, 3], [4, 5, 6]])\n",
    "a = np.array([[1, 0], [1, 6]])\n",
    "print(\"Original 2-d array\")\n",
    "print(a)\n",
    "print(\"Determinant of the said 2-D array:\")\n",
    "print(np.linalg.det(a))"
   ]
  },
  {
   "cell_type": "code",
   "execution_count": null,
   "metadata": {},
   "outputs": [],
   "source": [
    "5. Write a NumPy program to compute the eigenvalues and\n",
    "right eigenvectors of a given square array."
   ]
  },
  {
   "cell_type": "code",
   "execution_count": 19,
   "metadata": {},
   "outputs": [
    {
     "name": "stdout",
     "output_type": "stream",
     "text": [
      "E-value: [-1.  4.]\n",
      "E-vector [[-0.89442719 -0.4472136 ]\n",
      " [ 0.4472136  -0.89442719]]\n"
     ]
    }
   ],
   "source": [
    "from numpy.linalg import eig\n",
    "a = np.array([[0, 2], \n",
    "              [2, 3]])\n",
    "w,v=eig(a)\n",
    "print('E-value:', w)\n",
    "print('E-vector', v)"
   ]
  },
  {
   "cell_type": "code",
   "execution_count": null,
   "metadata": {},
   "outputs": [],
   "source": [
    "6. Write a NumPy program to multiple three matrices each\n",
    "of 3*3 dimension"
   ]
  },
  {
   "cell_type": "code",
   "execution_count": 20,
   "metadata": {},
   "outputs": [
    {
     "data": {
      "text/plain": [
       "array([[                 1,                  0,                 16],\n",
       "       [                 1,                 16,      7625597484987],\n",
       "       [                 0, 361100275589084277,                  0]])"
      ]
     },
     "execution_count": 20,
     "metadata": {},
     "output_type": "execute_result"
    }
   ],
   "source": [
    "a = np.array([[1, 0, 2], [1, 2, 3], [4, 5, 6]])\n",
    "a = np.array([[1, 0, 2], [1, 2, 3], [4, 5, 6]])\n",
    "a = np.array([[1, 0, 2], [1, 2, 3], [4, 5, 6]])\n",
    "a**a**a"
   ]
  }
 ],
 "metadata": {
  "kernelspec": {
   "display_name": "Python 3",
   "language": "python",
   "name": "python3"
  },
  "language_info": {
   "codemirror_mode": {
    "name": "ipython",
    "version": 3
   },
   "file_extension": ".py",
   "mimetype": "text/x-python",
   "name": "python",
   "nbconvert_exporter": "python",
   "pygments_lexer": "ipython3",
   "version": "3.7.6"
  }
 },
 "nbformat": 4,
 "nbformat_minor": 4
}
